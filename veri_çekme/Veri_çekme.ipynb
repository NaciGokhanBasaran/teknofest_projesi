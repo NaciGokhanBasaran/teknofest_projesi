{
 "cells": [
  {
   "cell_type": "markdown",
   "metadata": {
    "id": "U1IXWsHIae--"
   },
   "source": [
    "# **Veri Çekme**"
   ]
  },
  {
   "cell_type": "code",
   "execution_count": 13,
   "metadata": {
    "colab": {
     "base_uri": "https://localhost:8080/"
    },
    "id": "wM2QN4zOcJDa",
    "outputId": "e67ad802-ed86-4a63-bda5-3e7e70faf06b"
   },
   "outputs": [
    {
     "name": "stdout",
     "output_type": "stream",
     "text": [
      "Looking in indexes: https://pypi.org/simple, https://us-python.pkg.dev/colab-wheels/public/simple/\n",
      "Collecting git+https://github.com/woluxwolu/twint.git\n",
      "  Cloning https://github.com/woluxwolu/twint.git to /tmp/pip-req-build-48x7thj6\n",
      "  Running command git clone -q https://github.com/woluxwolu/twint.git /tmp/pip-req-build-48x7thj6\n",
      "Requirement already satisfied: aiohttp in /root/.local/lib/python3.7/site-packages (from twint==2.1.21) (3.8.1)\n",
      "Requirement already satisfied: aiodns in /root/.local/lib/python3.7/site-packages (from twint==2.1.21) (3.0.0)\n",
      "Requirement already satisfied: beautifulsoup4 in /usr/local/lib/python3.7/dist-packages (from twint==2.1.21) (4.6.3)\n",
      "Requirement already satisfied: cchardet in /root/.local/lib/python3.7/site-packages (from twint==2.1.21) (2.1.7)\n",
      "Requirement already satisfied: dataclasses in /root/.local/lib/python3.7/site-packages (from twint==2.1.21) (0.6)\n",
      "Requirement already satisfied: elasticsearch in /root/.local/lib/python3.7/site-packages (from twint==2.1.21) (8.3.1)\n",
      "Requirement already satisfied: pysocks in /usr/local/lib/python3.7/dist-packages (from twint==2.1.21) (1.7.1)\n",
      "Requirement already satisfied: pandas in /usr/local/lib/python3.7/dist-packages (from twint==2.1.21) (1.3.5)\n",
      "Requirement already satisfied: aiohttp_socks in /root/.local/lib/python3.7/site-packages (from twint==2.1.21) (0.7.1)\n",
      "Requirement already satisfied: schedule in /root/.local/lib/python3.7/site-packages (from twint==2.1.21) (1.1.0)\n",
      "Requirement already satisfied: geopy in /usr/local/lib/python3.7/dist-packages (from twint==2.1.21) (1.17.0)\n",
      "Requirement already satisfied: fake-useragent in /root/.local/lib/python3.7/site-packages (from twint==2.1.21) (0.1.11)\n",
      "Requirement already satisfied: googletransx in /root/.local/lib/python3.7/site-packages (from twint==2.1.21) (2.4.2)\n",
      "Requirement already satisfied: pycares>=4.0.0 in /root/.local/lib/python3.7/site-packages (from aiodns->twint==2.1.21) (4.2.1)\n",
      "Requirement already satisfied: cffi>=1.5.0 in /usr/local/lib/python3.7/dist-packages (from pycares>=4.0.0->aiodns->twint==2.1.21) (1.15.1)\n",
      "Requirement already satisfied: pycparser in /usr/local/lib/python3.7/dist-packages (from cffi>=1.5.0->pycares>=4.0.0->aiodns->twint==2.1.21) (2.21)\n",
      "Requirement already satisfied: multidict<7.0,>=4.5 in /root/.local/lib/python3.7/site-packages (from aiohttp->twint==2.1.21) (6.0.2)\n",
      "Requirement already satisfied: aiosignal>=1.1.2 in /root/.local/lib/python3.7/site-packages (from aiohttp->twint==2.1.21) (1.2.0)\n",
      "Requirement already satisfied: charset-normalizer<3.0,>=2.0 in /usr/local/lib/python3.7/dist-packages (from aiohttp->twint==2.1.21) (2.1.0)\n",
      "Requirement already satisfied: attrs>=17.3.0 in /usr/local/lib/python3.7/dist-packages (from aiohttp->twint==2.1.21) (21.4.0)\n",
      "Requirement already satisfied: asynctest==0.13.0 in /root/.local/lib/python3.7/site-packages (from aiohttp->twint==2.1.21) (0.13.0)\n",
      "Requirement already satisfied: frozenlist>=1.1.1 in /root/.local/lib/python3.7/site-packages (from aiohttp->twint==2.1.21) (1.3.0)\n",
      "Requirement already satisfied: async-timeout<5.0,>=4.0.0a3 in /root/.local/lib/python3.7/site-packages (from aiohttp->twint==2.1.21) (4.0.2)\n",
      "Requirement already satisfied: typing-extensions>=3.7.4 in /usr/local/lib/python3.7/dist-packages (from aiohttp->twint==2.1.21) (4.1.1)\n",
      "Requirement already satisfied: yarl<2.0,>=1.0 in /root/.local/lib/python3.7/site-packages (from aiohttp->twint==2.1.21) (1.7.2)\n",
      "Requirement already satisfied: idna>=2.0 in /usr/local/lib/python3.7/dist-packages (from yarl<2.0,>=1.0->aiohttp->twint==2.1.21) (2.10)\n",
      "Requirement already satisfied: python-socks[asyncio]<3.0.0,>=2.0.0 in /root/.local/lib/python3.7/site-packages (from aiohttp_socks->twint==2.1.21) (2.0.3)\n",
      "Requirement already satisfied: elastic-transport<9,>=8 in /root/.local/lib/python3.7/site-packages (from elasticsearch->twint==2.1.21) (8.1.2)\n",
      "Requirement already satisfied: certifi in /usr/local/lib/python3.7/dist-packages (from elastic-transport<9,>=8->elasticsearch->twint==2.1.21) (2022.6.15)\n",
      "Requirement already satisfied: urllib3<2,>=1.26.2 in /root/.local/lib/python3.7/site-packages (from elastic-transport<9,>=8->elasticsearch->twint==2.1.21) (1.26.11)\n",
      "Requirement already satisfied: geographiclib<2,>=1.49 in /usr/local/lib/python3.7/dist-packages (from geopy->twint==2.1.21) (1.52)\n",
      "Requirement already satisfied: requests in /root/.local/lib/python3.7/site-packages (from googletransx->twint==2.1.21) (2.28.1)\n",
      "Requirement already satisfied: numpy>=1.17.3 in /usr/local/lib/python3.7/dist-packages (from pandas->twint==2.1.21) (1.21.6)\n",
      "Requirement already satisfied: pytz>=2017.3 in /usr/local/lib/python3.7/dist-packages (from pandas->twint==2.1.21) (2022.1)\n",
      "Requirement already satisfied: python-dateutil>=2.7.3 in /usr/local/lib/python3.7/dist-packages (from pandas->twint==2.1.21) (2.8.2)\n",
      "Requirement already satisfied: six>=1.5 in /usr/local/lib/python3.7/dist-packages (from python-dateutil>=2.7.3->pandas->twint==2.1.21) (1.15.0)\n"
     ]
    }
   ],
   "source": [
    "pip install --user git+https://github.com/woluxwolu/twint.git"
   ]
  },
  {
   "cell_type": "code",
   "execution_count": 1,
   "metadata": {
    "id": "YHgLowojamrX"
   },
   "outputs": [],
   "source": [
    "#Gerekli kütüphaneleri dahil ediyoruz\n",
    "import requests    \n",
    "from bs4 import BeautifulSoup\n",
    "import pandas as pd\n",
    "import twint\n",
    "import random\n",
    "import nest_asyncio\n",
    "nest_asyncio.apply()"
   ]
  },
  {
   "cell_type": "code",
   "execution_count": 2,
   "metadata": {
    "id": "7uA7lKDIazAV"
   },
   "outputs": [],
   "source": [
    "agent={\"User-Agent\":# internet tarayıcınıza my user agent yazın}\n"
   ]
  },
  {
   "cell_type": "code",
   "execution_count": 3,
   "metadata": {
    "id": "nXb3oEWqa6ZB"
   },
   "outputs": [],
   "source": [
    "def twitter(basliklar:list=[\"deneme\"],limit:int=10,baslangic:str=\"2015-01-24 00:00:00\",\n",
    "                bitis:str ='2022-07-21 00:00:00',kaydet:bool=True,dosya_adi:str=\"-\"):\n",
    "   \n",
    "    for isim in basliklar:\n",
    "        \n",
    "        t =twint.Config()\n",
    "        t.Search = isim\n",
    "        t.Limit =limit\n",
    "        t.Since = baslangic\n",
    "        t.Until = bitis\n",
    "        \n",
    "        if kaydet==True:\n",
    "            t.Store_csv = True,\n",
    "            \n",
    "            if dosya_adi ==\"-\":\n",
    "                yeni_dosya_adi=isim+str(random.randint(10000,100000))+\".csv\"\n",
    "            else:\n",
    "                yeni_dosya_adi = dosya_adi+\".csv\"\n",
    "            t.Output=yeni_dosya_adi\n",
    "       \n",
    "        twint.run.Search(t)"
   ]
  },
  {
   "cell_type": "code",
   "execution_count": 4,
   "metadata": {
    "id": "BNplfyaza748"
   },
   "outputs": [],
   "source": [
    "def turkce_harfleri_degistir(x):\n",
    "   #stringdeki (ü,o,ş,ğ,ı,c) harflerini (u,o,s,g,i,c) ile değiştirecek\n",
    "    x = x.replace('ü', 'u')\n",
    "    x = x.replace(\"ö\",\"o\")\n",
    "    x = x.replace(\"ş\",\"s\")\n",
    "    x = x.replace(\"ğ\",\"g\")\n",
    "    x = x.replace(\"ı\",\"i\")\n",
    "    x = x.replace(\"ç\",\"c\")\n",
    "    return x"
   ]
  },
  {
   "cell_type": "code",
   "execution_count": 5,
   "metadata": {
    "id": "gYIWrEK4a94U"
   },
   "outputs": [],
   "source": [
    "def sikayet_var(isim,agent,degerleri_yazdir=True): #daha bitmedi\n",
    "    \n",
    "    url =\"https://www.sikayetvar.com/\"+isim\n",
    "    r =requests.get(url,headers=agent)\n",
    "    baslik=r.content\n",
    "    soup =BeautifulSoup(baslik,\"html.parser\")\n",
    "    \n",
    "    basliklar =soup.find_all(\"a\",{\"class\":\"complaint-layer\"})\n",
    "    \n",
    "    sikayet_basliklari =[]\n",
    "    sikayet_linkleri=[]\n",
    "    \n",
    "    for i in basliklar:\n",
    "        \n",
    "        sikayet_basliklari.append(i.text)\n",
    "        if degerleri_yazdir == True:\n",
    "            print(i.text)\n",
    "            print(\"\\n-------------------------------------------------------------------------------------------------------------------------------------------------------\")\n",
    "        \n",
    "\n",
    "        \n",
    "    for l in sikayet_basliklari:\n",
    "        \n",
    "        l=turkce_harfleri_degistir(l)\n",
    "        l=l.replace(\" \",\"-\").lower()\n",
    "        link = link=url+\"/\"+l\n",
    "        sikayet_linkleri.append(l)\n",
    "        \n",
    "        if degerleri_yazdir == True:\n",
    "            print(link)\n",
    "            print(\"\\n-------------------------------------------------------------------------------------------------------------------------------------------------------\")\n",
    "            \n",
    "            \n",
    "    return [sikayet_basliklari],[sikayet_linkleri]"
   ]
  },
  {
   "cell_type": "code",
   "execution_count": 6,
   "metadata": {
    "id": "oBbdFwYCbCJ8"
   },
   "outputs": [],
   "source": [
    " def eksi_sozluk(isim:str,agent,limit=20,degerleri_yazdir=False):\n",
    "\n",
    "        isim = turkce_harfleri_degistir(isim)\n",
    "        url =f\"https://eksisozluk.com/{isim}\"\n",
    "        r =requests.get(url,headers=agent)\n",
    "        soup =BeautifulSoup(r.content,\"html.parser\")\n",
    "\n",
    "        topicid=soup.find(\"div\",{\"class\":\"lazy\"})\n",
    "        sayfa_sayisi = soup.find(\"div\",{\"class\":\"pager\"})\n",
    "\n",
    "        topicid=str(topicid)\n",
    "        sayfa_sayisi=str(sayfa_sayisi)\n",
    "\n",
    "        topicid = ''.join(x for x in topicid if x.isdigit())\n",
    "        sayfa_sayisi = ''.join(x for x in sayfa_sayisi if x.isdigit())\n",
    "        sayfa_sayisi=(sayfa_sayisi[1:])\n",
    "\n",
    "    \n",
    "    \n",
    "        isim = isim.replace(\" \",\"-\")\n",
    "\n",
    "        yazilar=[]\n",
    "\n",
    "        if (sayfa_sayisi or topicid)== \"\":\n",
    "            print(\"Böyle bir entry bulunamadı \")\n",
    "            return 0 \n",
    "\n",
    "        else:\n",
    "\n",
    "            for i in range(1,int(sayfa_sayisi)):\n",
    "                if i>limit :\n",
    "                    break\n",
    "\n",
    "                else:\n",
    "                    url =f\"https://eksisozluk.com/{isim}--{topicid}?p={i}\"\n",
    "                    if degerleri_yazdir ==True:\n",
    "                        print(f\"url:\\n{url}\")\n",
    "                    r =requests.get(url,headers=agent)\n",
    "\n",
    "                    soup =BeautifulSoup(r.content,\"html.parser\")\n",
    "\n",
    "                    yorumlar =soup.find_all(\"div\",{\"class\":\"content\"})\n",
    "\n",
    "                    for y in yorumlar:\n",
    "                        yazilar.append(y.text)\n",
    "                        if degerleri_yazdir ==True:\n",
    "                            print(y.text)\n",
    "                            \n",
    "            return pd.DataFrame(yazilar,columns =['Yorum'])"
   ]
  },
  {
   "cell_type": "code",
   "execution_count": 7,
   "metadata": {
    "id": "Q0e4J4IWbD_w"
   },
   "outputs": [],
   "source": [
    "def hepsi_burada(link,agent,limit=20,degerleri_yazdir=False,kaydet=True):\n",
    "    url = f\"https://www.hepsiburada.com/{link}-yorumlari\"\n",
    "    r = requests.get(url,headers=agent)\n",
    "    soup = BeautifulSoup(r.content,\"html.parser\")\n",
    "   \n",
    "    sayfa_sayisi=soup.find_all(\"span\",{\"class\":\"hermes-PageHolder-module-1QoWq\"})\n",
    "    sayfa_sayisi = str(sayfa_sayisi[-1].text)\n",
    "    yazilar=[]\n",
    "\n",
    "    for i in range(1,int(sayfa_sayisi)//2):#hepsi buradada toplam yorum sayısının yarısından fazlasını almaya çalıştığınızda ilk yorumlar sayfasına gönderiliyorsunuz.\n",
    "        if i>limit:\n",
    "            break\n",
    "\n",
    "        else:\n",
    "            yeni_url=url+\"?sayfa=\"+str(i)\n",
    "            r = requests.get(yeni_url,headers=agent)\n",
    "            soup = BeautifulSoup(r.content,\"html.parser\")\n",
    "            yorumlar =soup.find_all(\"div\",{\"class\":\"hermes-ReviewCard-module-2dVP9\"})\n",
    "\n",
    "            for a in yorumlar:\n",
    "                yorum =a.text.split(\"Değerlendirilen özellikler\")\n",
    "                yorum=str(yorum[0])\n",
    "                yazilar.append(yorum)\n",
    "                if degerleri_yazdir ==True:\n",
    "                    print(yorum+\"\\n\")\n",
    "\n",
    "            if degerleri_yazdir ==True:\n",
    "                print(\"----------------------------------------------------------------------------------------------------------------------------------------------------------------------------\")\n",
    "        \n",
    "    return pd.DataFrame(yazilar,columns =['Yorum'])\n"
   ]
  },
  {
   "cell_type": "code",
   "execution_count": 8,
   "metadata": {
    "id": "OTjUJra1bI1d"
   },
   "outputs": [],
   "source": [
    "ek1 =eksi_sozluk(isim=\"turkcell\",agent=agent,limit=100,degerleri_yazdir=False)\n",
    "ek1.to_csv ('ek1.csv',index =False)\n",
    "\n",
    "ek2 = eksi_sozluk(isim=\"turk telekom\",agent=agent,limit=100,degerleri_yazdir=False)\n",
    "ek2.to_csv ('ek2.csv',index =False)"
   ]
  },
  {
   "cell_type": "code",
   "execution_count": 9,
   "metadata": {
    "id": "-SDc8d6LbJ_J"
   },
   "outputs": [],
   "source": [
    "hb1 = hepsi_burada(link= \"samsung-galaxy-buds-pro-bluetooth-kulaklik-phantom-white-sm-r190nzwatur-p-HBCV00001UKZXS\",\n",
    "             agent=agent,limit=65,degerleri_yazdir=False)\n",
    "hb1.to_csv ('hb1.csv',index =False)"
   ]
  },
  {
   "cell_type": "code",
   "execution_count": 10,
   "metadata": {
    "id": "yNcvcxREbL2r"
   },
   "outputs": [],
   "source": [
    "hb2=hepsi_burada(link=\"boya-profesyonel-youtuber-yaka-mikrofonu-by-m1-mikrofon-p-HBV00000EDMPB\",agent=agent,limit=65,degerleri_yazdir=False)\n",
    "hb1.to_csv ('hb2.csv',index =False)"
   ]
  },
  {
   "cell_type": "code",
   "execution_count": 11,
   "metadata": {
    "colab": {
     "base_uri": "https://localhost:8080/"
    },
    "id": "a-muse94bNHd",
    "outputId": "bef266f7-4069-40af-ee05-7ac92d5d5626"
   },
   "outputs": [
    {
     "name": "stdout",
     "output_type": "stream",
     "text": [
      "1549906926854619136 2022-07-20 23:59:41 +0000 <lazkopatramo> @ResulDurmus61 İçimizdeki hayin senmiydin lan 2. Resıl seni esefle kınıyorum bilsemki Fenerbahçe yenince biz avrupa şampiyonu olcak yine desteklemem olum az akıllı lan onlar bizi destekliyormu 😡\n",
      "1549906912912752641 2022-07-20 23:59:38 +0000 <OnurTNS> @ismailyuksekk @Fenerbahce İlk geldiğin günden beri senin kadar heyecanlıyım bende inşallah daha iyi yerlere geleceksin o formayı daha fazla terleteceksin o sahanın içinde senin gibi Fenerbahçe'ye aşık olan sahada bile bir taraftar olabilen oyunculara ihtiyacımız var Allah yolunu açık etsin\n",
      "1549906808713641985 2022-07-20 23:59:13 +0000 <onurlu1i> Sol bek ve defans acilllll alabilirmiyiz canoo @Fenerbahce\n",
      "1549906706259386368 2022-07-20 23:58:49 +0000 <DoganCaanBektas> Fenerbahçe işte bu kadar önemli...\n",
      "1549906367548473344 2022-07-20 23:57:28 +0000 <BaygulAleyna> @Fenerbahce Basarilar\n",
      "1549906361697329152 2022-07-20 23:57:27 +0000 <NoyanSahh> @ufuk09894442 @Fenerbahce Yenemezdin 3 yer gelirdin.\n",
      "1549906263563280384 2022-07-20 23:57:03 +0000 <boxtoboxsekiz> @saforcada1899 Fenerbahçe loserliği var üzerimde\n",
      "1549906197633007616 2022-07-20 23:56:48 +0000 <ismlsarigul1845> @lacisariduvar @hakan_official_ @Fenerbahce Pedroyu haftaya kadar beklemeyin bence nedeni basit ve haklı diğer forvet oyuncuları etkilenmesin demoralize olmasın diye\n",
      "1549906183129030656 2022-07-20 23:56:44 +0000 <Bedirha67923142> @Fenerbahce Başarılar fb\n",
      "1549905990690213888 2022-07-20 23:55:58 +0000 <serifozmenn> @OraletciRakun @Fenerbahce akan oyunumuzun icine ettiler habire faul mu olur\n",
      "1549905917411565575 2022-07-20 23:55:41 +0000 <EscogidoGokhan> @Fenerbahce Kalecinin konsatrasyonu zaman zaman dağılıyor. Ve bu sürekli oluyor. Salai ise çok fazla UZUN çıkıyor. Bu kadarı fazla. 3 Bölgede ise Panik ve Acelecilik göze çarpıyor. İlk 20 dk 20 den fazla top kaybı var. Bu çok fazla. Ferdi ve Jashu'da kendine çeki düzen vermeli!\n",
      "1549905849962975236 2022-07-20 23:55:25 +0000 <kombinedevret> Fenerbahçe-Dinamo Kiev 1000 TL,migros / K Blok, 3 sıra,O**** S*****, ilana git-&gt;  https://t.co/8b3zEzVqzC\n",
      "1549905629187276802 2022-07-20 23:54:32 +0000 <fsevvalckr> @burakismy @Fenerbahce\n",
      "1549905563412307970 2022-07-20 23:54:16 +0000 <de9710262_metin> @Fenerbahce  https://t.co/BDXol6swCR\n",
      "1549905527198605314 2022-07-20 23:54:08 +0000 <Murat96876064> @fersudeniz @AnadoluEfesSK Fenerbahçe de olsa çoktan NBA yapmıştı. Hamiltonu bile NBA e ye yollayan takımdır Fenerbahçe. Zaten NBA bitirdi bizi😬\n",
      "1549905494839595009 2022-07-20 23:54:00 +0000 <TheFitbol> Ali Koç: Sayın başkan, size otobüs çarpsa Fenerbahçe'nin haklarını sizden başka koruyacak biri yok mu?  Aziz Yıldırım: Niye bana otobüs çarpsın?  02 Haz 2018\n",
      "1549905333161713665 2022-07-20 23:53:21 +0000 <NaijaFootball_> @haso__3 @Fenerbahce__FR 💪🏾💪🏾💪🏾💪🏾\n",
      "1549905268259045387 2022-07-20 23:53:06 +0000 <sadecefenerlii> @samwatoniki @leeozaaoo Os jogadores de futebol brasileiros sempre foram muito populares no Fenerbahçe. Acreditamos que William Arao será como eles.\n",
      "1549905142694449152 2022-07-20 23:52:36 +0000 <NoyanSahh> @Erenr61 @atavratemreee @Fenerbahce Osayi çokmu kötüydü 😁\n",
      "1549905095852052480 2022-07-20 23:52:25 +0000 <vivimosfutbolcl> 🔻Mesut Ozil (33)🇩🇪 🔹Fenerbahce🇹🇷 ➡️ Istanbul Basaksehir🇹🇷 🔹Fichó como agente libre🆓 🔹Contrato hasta junio de 2023📃🖋️  https://t.co/xGOHeqiKCH\n",
      "1549904947310989312 2022-07-20 23:51:49 +0000 <F515TB3> @06melihgokcek Ankaparkı bu hale getirenler iktidara gelse Baykar'ın, Tusaş'ın, Aselsan'ın, Roketsan'ın, Togg'un vs.. hali nolur. Hepsini yıkarlar  https://t.co/FAUpRxeLnM\n",
      "1549904417025048576 2022-07-20 23:49:43 +0000 <10_kartal_10> @dijitaldnsm Emekli dayılar halk ekmek kuyruklarından sonra togg kuyruklarında olacaklar🤦‍♂️🤷‍♂️🤣🤣🤣🤣🤣🤣🤣\n",
      "1549904016007696391 2022-07-20 23:48:07 +0000 <Ghost13525823> @ersoydede @varank Kemal Kılıçdaroğlu nun telefonunu dinlediklerinde çalmış olabilirler bu projeyi. Togg un baş harfinin bile Kılıçtaroğlu'nun T si ile başlaması bunu gösteriyor.\n",
      "1549903736176349189 2022-07-20 23:47:01 +0000 <m_genghis> @Biniiita Loula ko téré togg?\n",
      "1549901482752876546 2022-07-20 23:38:03 +0000 <niklas_34> @eurodolar1980x ya DEVRİM de çok havalıymış. Yazıklar olsun ona engel olanlara.  TOGG ileride DEVRİM ismini bir modele verirse süper olur!\n",
      "1549900478175232000 2022-07-20 23:34:04 +0000 <patriyoTR> Çarşı pazardaki soygunu  yangını kundaklamayı gördükçe ne TOGG'a sevinebiliyor ne diğer güzelliklere insan. Hayatın, piyasanın matematiğinde 1(-) 1(+)'yı götürmüyor. 1(-) sayısız (+)ları götürüyor siliyor. Ne Erdoğan ne AK Parti böyle başarısız silik etkisiz bakanlığı hak etmiyor\n",
      "1549898763598192641 2022-07-20 23:27:15 +0000 <trhakkinda> Togg, İstanbul'daki bir alışveriş merkezinde sergileniyor.  https://t.co/AGvZT9YAAB\n",
      "1549897868831514624 2022-07-20 23:23:42 +0000 <RuhuAnadolu> SOKAĞA ÇIKIP BAKTIĞIMIZDA; Markası bize ait 1 tane yerli ve milli marka araba göremezsiniz. Bunun tek sebebi İNGİLİZ-ABD devşirmesi Türkiye düşmanları yüzündendir. DEVRİM ARABASINI YAPTIK YOK ETTİLER ŞİMDİ TOGG YAPACAĞIZ İnşallah yok ettirmeyiz. ARTIK UYAN TÜRKİYE!\n",
      "1549896894171725824 2022-07-20 23:19:49 +0000 <HelloriHazretl2> %4.5 yerli otomobilden bi tane toplamışlar #TOGG\n",
      "1549896579632533505 2022-07-20 23:18:34 +0000 <Kriptolstoy> @UretimYerli Almanya'da sıfır porsche 60.000 birim yerli üretim. Türkiye'de sıfır TOGG 60.000 birim olabilir mi ?\n",
      "1549895751643418629 2022-07-20 23:15:17 +0000 <boycos> @Madivas0 Doma invite ? Ca fait des lustre degouma magui togg thiéré 🥲🥲👨🏽‍🦯\n",
      "1549894063553404937 2022-07-20 23:08:35 +0000 <zafermurat> TOGG’un Sedan modeli İstanbul’da sergilenmeye başladı  https://t.co/A0ByxfPj6h\n",
      "1549894002429886464 2022-07-20 23:08:20 +0000 <SavakKasim> @drhuri__ye Yarin bit gun Togg cikar ..onu da biz yaptirdik der bu yuzsuzler..\n",
      "1549892137256624128 2022-07-20 23:00:55 +0000 <bayesalifbaye> @Amiral_ATB Maangi togg parfois oui...\n",
      "1549891676621230081 2022-07-20 22:59:05 +0000 <ssmbackegueye> Dam done togg rére mais le GAG moy avant may paré soure na  https://t.co/HIuKBWFnNJ\n",
      "1549890700103360513 2022-07-20 22:55:13 +0000 <mahmut81976912> @BartuSoral Trafikte toplam araç sayısı 22m, togg 2030 hedef 1m araç(bir kısmı ihracata gidebilir). 2035 yılı itibariyle çoğu firma fosil yakıt işini bitiriyor.talebin çoğu yabancıdan karşılanacağa benziyor.extra fabrika kurulmalı\n",
      "1549890422427746310 2022-07-20 22:54:06 +0000 <alaturkaus> TOGG İstanbul’da Sergileniyor  https://t.co/OdMiIEuJyC  https://t.co/QFOc5ej2yI\n",
      "1549890263325327361 2022-07-20 22:53:29 +0000 <aziye22> #PkkMassacreInZaho   Bilal Erdoğan #NTVBoykot #migrosboykot #Zaxo Ukraynalı Dilan Polat #TOGG #Suriyeli\n",
      "1549888975623622656 2022-07-20 22:48:21 +0000 <ikalkinmaajansi> TOGG görücüye çıktı  https://t.co/PicplLisEJ\n",
      "1549888806110756866 2022-07-20 22:47:41 +0000 <CCemaldemirperi> Togg ..resmen bu ülkedeki hainlere diyorki... Ben gerçeğim. Bunu size kabul ettirecğim...\n",
      "1549901923985268739 2022-07-20 23:39:49 +0000 <DenizKam13> @yengeckaradere @NAGiHANKARADERE favorilerinizi paylaşıp fotoğraflarını övdüğünüz döngü ne zaman bitecek hani artık yarışma bitti finito yeto ya\n",
      "1549896215357267968 2022-07-20 23:17:08 +0000 <BurslarBurs>  https://t.co/ZXcddJ9q7L Aktaş Eğitim Vakfı 2022-2023 Dönemi #Burs Başvuru Tarihleri Belli oldu.\n",
      "1549879388942045184 2022-07-20 22:10:16 +0000 <sergul15> @Dogtas #EvimdeDoğtaşZevki                                                                                           Çok güzel bir.  Yarışma yapıyorsunuz .Teşekkürler.   hepinize.  @ArzuAkn48402519   @faatiima0650\n",
      "1549879212760236032 2022-07-20 22:09:34 +0000 <sergul15> @Dogtas #EvimdeDoğtaşZevki                                                                                           Çok güzel bir.  Yarışma yapıyorsunuz .Teşekkürler.   hepinize.   @35_okuyucu     @nilaydagemiciog\n",
      "1549879095667970051 2022-07-20 22:09:06 +0000 <sergul15> @Dogtas #EvimdeDoğtaşZevki                                                                                           Çok güzel bir.  Yarışma yapıyorsunuz .Teşekkürler.   hepinize.  @omerimasaf      @esmer_sy\n",
      "1549878924414517249 2022-07-20 22:08:25 +0000 <sergul15> @Dogtas #EvimdeDoğtaşZevki                                                                                           Çok güzel bir.  Yarışma yapıyorsunuz .Teşekkürler.   hepinize.  @TeyzeNermin       @elimec_88\n",
      "1549878783469129728 2022-07-20 22:07:51 +0000 <sergul15> @Dogtas #EvimdeDoğtaşZevki                                                                                           Çok güzel bir.  Yarışma yapıyorsunuz .Teşekkürler.   hepinize.   @fadimesrc       @GulserCiftci\n",
      "1549878552149082114 2022-07-20 22:06:56 +0000 <sergul15> @Dogtas #EvimdeDoğtaşZevki                                                                                           Çok güzel bir.  Yarışma yapıyorsunuz .Teşekkürler.   hepinize.  @yaral_35        @Yudumegemden\n",
      "1549878223340769281 2022-07-20 22:05:38 +0000 <sergul15> @Dogtas #EvimdeDoğtaşZevki                                                                                           Çok güzel bir.  Yarışma yapıyorsunuz .Teşekkürler.   hepinize.   @dondualarcin     @Melissa18389686\n",
      "1549878085746655234 2022-07-20 22:05:05 +0000 <sergul15> @Dogtas #EvimdeDoğtaşZevki                                                                                           Çok güzel bir.  Yarışma yapıyorsunuz .Teşekkürler.   hepinize.   @iek66186643      @zubeydesariii\n",
      "1549877973267922944 2022-07-20 22:04:38 +0000 <Mustang9295> Size olan sabır bu yarışma ile biter fan tokenler den bu yana türlü türlü oyunlarla milleti nasıl dolandırdınız belli değil bide üstüne hala aynı şekilde devam ediyorsunuz beni sınavım bu yarışma ile belli olur kalanları da illa biyerde kopar\n",
      "1549877968910286853 2022-07-20 22:04:37 +0000 <Mustang9295> @bitexencom nasıl saçma bir yarışma oldu anlamadım gitti 10 gündür dikkatle takip ediyorum ne ileri ne geri söyleyince bissürü şey söylerler buna da kendinizi inandırmışsınız 2 gün kaldı sabırla bekliyorum 24. Gün buraya atacağım resim sizin ile son görüşmem olacak artık yeter  https://t.co/wmJf2jIDvW\n",
      "1549877844448354304 2022-07-20 22:04:08 +0000 <sergul15> @Dogtas #EvimdeDoğtaşZevki                                                                                           Çok güzel bir.  Yarışma yapıyorsunuz .Teşekkürler.   hepinize.    @Sadecezeynep34    @yurdakul_z9\n",
      "1549877742019252229 2022-07-20 22:03:43 +0000 <sergul15> @Dogtas #EvimdeDoğtaşZevki                                                                                           Çok güzel bir.  Yarışma yapıyorsunuz .Teşekkürler.   hepinize.  @Ruvolojii          @Yurdusar\n",
      "1549877485726273543 2022-07-20 22:02:42 +0000 <sergul15> @Dogtas #EvimdeDoğtaşZevki                                                                                           Çok güzel bir.  Yarışma yapıyorsunuz .Teşekkürler.   hepinize.   @buketkeskinnnnn     @58makyajperisi\n",
      "1549877378838630401 2022-07-20 22:02:17 +0000 <sergul15> @Dogtas #EvimdeDoğtaşZevki                                                                                           Çok güzel bir.  Yarışma yapıyorsunuz .Teşekkürler.   hepinize.  @defnedemirkran      @efsane78\n",
      "1549877289843826688 2022-07-20 22:01:55 +0000 <sergul15> @Dogtas #EvimdeDoğtaşZevki                                                                                           Çok güzel bir.  Yarışma yapıyorsunuz .Teşekkürler.   hepinize.  @OzgenBLGN     @OzgeceZeytin\n",
      "1549877196088541185 2022-07-20 22:01:33 +0000 <sergul15> @Dogtas #EvimdeDoğtaşZevki                                                                                           Çok güzel bir.  Yarışma yapıyorsunuz .Teşekkürler.   hepinize.  @neseege1      @binici_nese\n",
      "1549877117554491394 2022-07-20 22:01:14 +0000 <sergul15> @Dogtas #EvimdeDoğtaşZevki                                                                                           Çok güzel bir.  Yarışma yapıyorsunuz .Teşekkürler.   hepinize.    @DokuyucuArzu     @_karaboncuk06\n",
      "1549876990924169216 2022-07-20 22:00:44 +0000 <sergul15> @Dogtas #EvimdeDoğtaşZevki                                                                                           Çok güzel bir.  Yarışma yapıyorsunuz .Teşekkürler.   hepinize.     @SeldaDo68672405        @_karaboncuk06\n",
      "1549898389273411586 2022-07-20 23:25:46 +0000 <smailZK08280702> Bu yıl teknofest finallerine 14.meb robot yarışmasından hangi kategoriler ve yarışmacılar katılacak? Malum okullar tatil öğrencilerimizi eylüle kadar eğitime almamız gerekiyor. @teknofest @mebrobot @MilliEgitimBak @Selcuk @meb_ogm\n",
      "1549891532513316865 2022-07-20 22:58:31 +0000 <Teknofest_kusu> @_HDF_2023_songl @tcbestepe @suleymansoylu @TC_icisleri @Ak_Sultanlar Oyun içinde oyuna gelmiyeceğiz #PkkMassacreInZaho\n",
      "1549891417123815426 2022-07-20 22:58:04 +0000 <aystar2020> Şimdi de genç bakış var 😎 Gençler teknofest te geleceğe adım atıyorlar.  Gençlere İlham verecek bir Program istiyorsanız @selcuk u davet edersiniz Hertürlü sorunuza cevap alırsınız. İşsizliğe de çözüm söyler  Teröre de söyler  Eğitime de söyler  Hepsinden de iyi söyler NET\n",
      "1549889851255840768 2022-07-20 22:51:50 +0000 <Ayaz03141424> @guloglu_mustafa @KemalettinBigec @fantoma61 @m_krat @UgurSwm @ncrysf @FATIHOZKAN_61 @HakanKl57963737 @KoncaTarik @AKINCIBEY20 @EZOTERICAL @Bakan32168972 @3isa23 @Teknofest_kusu @Mnevver16463589 @agaby_65 @bayram1617  https://t.co/4XdzwhqESp\n",
      "1549888618965204994 2022-07-20 22:46:56 +0000 <Hunal04034> @Teknofest_kusu @FiratOfc25 Every side is TURKEY  #PkkMassacreInZaho\n",
      "1549887526483238915 2022-07-20 22:42:36 +0000 <Teknofest_kusu> @FiratOfc25 Türkiye is there  #PkkMassacreInZaho\n",
      "1549886795650826246 2022-07-20 22:39:42 +0000 <Teknofest_kusu> @safsata14 Oyuna gelme Türkiye'm  #PkkMassacreInZaho\n",
      "1549880001755025409 2022-07-20 22:12:42 +0000 <DmrMdn> @guloglu_mustafa @KemalettinBigec @fantoma61 @m_krat @UgurSwm @ncrysf @FATIHOZKAN_61 @HakanKl57963737 @KoncaTarik @AKINCIBEY20 @EZOTERICAL @Bakan32168972 @3isa23 @Teknofest_kusu @Mnevver16463589 @agaby_65 @bayram1617 🤲🤲🇹🇷\n",
      "1549878273596874752 2022-07-20 22:05:50 +0000 <sgn3452> @guloglu_mustafa @Gercekhaber8 @KemalettinBigec @fantoma61 @m_krat @UgurSwm @ncrysf @FATIHOZKAN_61 @HakanKl57963737 @KoncaTarik @AKINCIBEY20 @EZOTERICAL @Bakan32168972 @3isa23 @Teknofest_kusu @Mnevver16463589 @agaby_65 @bayram1617 🇹🇷🇹🇷\n",
      "1549876674031935489 2022-07-20 21:59:29 +0000 <ErcanalkanAl> @guloglu_mustafa @KemalettinBigec @fantoma61 @m_krat @UgurSwm @ncrysf @FATIHOZKAN_61 @HakanKl57963737 @KoncaTarik @AKINCIBEY20 @EZOTERICAL @Bakan32168972 @3isa23 @Teknofest_kusu @Mnevver16463589 @agaby_65 @bayram1617 🕋❤️🇹🇷\n",
      "1549873888636841984 2022-07-20 21:48:24 +0000 <BenOkcuHakan> @guloglu_mustafa @KemalettinBigec @fantoma61 @m_krat @UgurSwm @ncrysf @FATIHOZKAN_61 @HakanKl57963737 @KoncaTarik @AKINCIBEY20 @EZOTERICAL @Bakan32168972 @3isa23 @Teknofest_kusu @Mnevver16463589 @agaby_65 @bayram1617 Takip 🇹🇷\n",
      "1549869063807143938 2022-07-20 21:29:14 +0000 <A_L_P___1071_TR> @guloglu_mustafa @KemalettinBigec @fantoma61 @m_krat @UgurSwm @ncrysf @FATIHOZKAN_61 @HakanKl57963737 @KoncaTarik @AKINCIBEY20 @EZOTERICAL @Bakan32168972 @3isa23 @Teknofest_kusu @Mnevver16463589 @agaby_65 @bayram1617 💯\n",
      "1549869007993438216 2022-07-20 21:29:01 +0000 <dagosman66> @guloglu_mustafa @KemalettinBigec @fantoma61 @m_krat @UgurSwm @ncrysf @FATIHOZKAN_61 @HakanKl57963737 @KoncaTarik @AKINCIBEY20 @EZOTERICAL @Bakan32168972 @3isa23 @Teknofest_kusu @Mnevver16463589 @agaby_65 @bayram1617 🇹🇷🇹🇷🇹🇷\n",
      "1549868264494436352 2022-07-20 21:26:04 +0000 <FatihKu73736305> @guloglu_mustafa @KemalettinBigec @fantoma61 @m_krat @UgurSwm @ncrysf @FATIHOZKAN_61 @HakanKl57963737 @KoncaTarik @AKINCIBEY20 @EZOTERICAL @Bakan32168972 @3isa23 @Teknofest_kusu @Mnevver16463589 @agaby_65 @bayram1617 Takibe takip\n",
      "1549865011459375104 2022-07-20 21:13:08 +0000 <KaracaliIbrahim> @guloglu_mustafa @KemalettinBigec @fantoma61 @m_krat @UgurSwm @ncrysf @FATIHOZKAN_61 @HakanKl57963737 @KoncaTarik @AKINCIBEY20 @EZOTERICAL @Bakan32168972 @3isa23 @Teknofest_kusu @Mnevver16463589 @agaby_65 @bayram1617 Takibe kalıcı ve etkili takip inşallah\n",
      "1549864885118554112 2022-07-20 21:12:38 +0000 <Ak_Sultanlar> @guloglu_mustafa @KemalettinBigec @fantoma61 @m_krat @UgurSwm @ncrysf @FATIHOZKAN_61 @HakanKl57963737 @KoncaTarik @AKINCIBEY20 @EZOTERICAL @Bakan32168972 @3isa23 @Teknofest_kusu @Mnevver16463589 @agaby_65 @bayram1617 🇹🇷🇹🇷🇹🇷\n",
      "1549862511360589826 2022-07-20 21:03:12 +0000 <EserdarUsstar> @guloglu_mustafa @KemalettinBigec @fantoma61 @m_krat @UgurSwm @ncrysf @FATIHOZKAN_61 @HakanKl57963737 @KoncaTarik @AKINCIBEY20 @EZOTERICAL @Bakan32168972 @3isa23 @Teknofest_kusu @Mnevver16463589 @agaby_65 @bayram1617 🇹🇷🇹🇷🇹🇷\n",
      "1549859450785234948 2022-07-20 20:51:02 +0000 <1907brdl> @guloglu_mustafa @KemalettinBigec @fantoma61 @m_krat @UgurSwm @ncrysf @FATIHOZKAN_61 @HakanKl57963737 @KoncaTarik @AKINCIBEY20 @EZOTERICAL @Bakan32168972 @3isa23 @Teknofest_kusu @Mnevver16463589 @agaby_65 @bayram1617 🇹🇷👍 @1907brdl\n",
      "1549857653102460931 2022-07-20 20:43:54 +0000 <kamil43296018> İmam Hatip Liselerinin kitlesel başarıları her yıl  https://t.co/PlT7glKwYSımın nesli geliyor Z kuşağı değil maneviyatlı teknofest kuşağı.Bir imam hatipli olarak gurur duymamak elde değil  https://t.co/YMKnYJmFgg\n",
      "1549856273281196032 2022-07-20 20:38:25 +0000 <osmanli571_632> @guloglu_mustafa @KemalettinBigec @fantoma61 @m_krat @UgurSwm @ncrysf @FATIHOZKAN_61 @HakanKl57963737 @KoncaTarik @AKINCIBEY20 @EZOTERICAL @Bakan32168972 @3isa23 @Teknofest_kusu @Mnevver16463589 @agaby_65 @bayram1617 🇹🇷🇹🇷🇹🇷\n",
      "1549855772737241092 2022-07-20 20:36:25 +0000 <sebo4444> @guloglu_mustafa @KemalettinBigec @fantoma61 @m_krat @UgurSwm @ncrysf @FATIHOZKAN_61 @HakanKl57963737 @KoncaTarik @AKINCIBEY20 @EZOTERICAL @Bakan32168972 @3isa23 @Teknofest_kusu @Mnevver16463589 @agaby_65 @bayram1617 🇹🇷👍🏽🇹🇷\n",
      "1549853693524205568 2022-07-20 20:28:10 +0000 <HasanHseyinYour> @guloglu_mustafa @KemalettinBigec @fantoma61 @m_krat @UgurSwm @ncrysf @FATIHOZKAN_61 @HakanKl57963737 @KoncaTarik @AKINCIBEY20 @EZOTERICAL @Bakan32168972 @3isa23 @Teknofest_kusu @Mnevver16463589 @agaby_65 @bayram1617 👆🇹🇷👆🇹🇷👆🇹🇷👆\n",
      "1549852472902139906 2022-07-20 20:23:19 +0000 <nizamusta74> @guloglu_mustafa @KemalettinBigec @fantoma61 @m_krat @UgurSwm @ncrysf @FATIHOZKAN_61 @HakanKl57963737 @KoncaTarik @AKINCIBEY20 @EZOTERICAL @Bakan32168972 @3isa23 @Teknofest_kusu @Mnevver16463589 @agaby_65 @bayram1617 Ne demiş mevlanaSık sık verilen bir öğütten sıkılma,zira bir çiviyi çakmak içinDefalarca vurmak gerekirKalbin temizse hikayen mutlu biter ve hiçbir karşılaşma tesadüf değildir.Umut her ihtimali görüp,evinde oturup kötülüğe küfretmektense,iyilik için elinden geleni yapmak demektir\n",
      "1549851650755551233 2022-07-20 20:20:03 +0000 <svg_cnsn> @guloglu_mustafa @KemalettinBigec @fantoma61 @m_krat @UgurSwm @ncrysf @FATIHOZKAN_61 @HakanKl57963737 @KoncaTarik @AKINCIBEY20 @EZOTERICAL @Bakan32168972 @3isa23 @Teknofest_kusu @Mnevver16463589 @agaby_65 @bayram1617 👍🇹🇷🇹🇷🇹🇷\n",
      "1549850678104834048 2022-07-20 20:16:11 +0000 <orduulak> TEKNOFEST'te Sahne Senin!  https://t.co/dTd8Ch1AzW #TeknofestKaradeniz #Giresun #sahnesenin @teknofest\n",
      "1549849927039471616 2022-07-20 20:13:12 +0000 <memureko16> @guloglu_mustafa @KemalettinBigec @fantoma61 @m_krat @UgurSwm @ncrysf @FATIHOZKAN_61 @HakanKl57963737 @KoncaTarik @AKINCIBEY20 @EZOTERICAL @Bakan32168972 @3isa23 @Teknofest_kusu @Mnevver16463589 @agaby_65 @bayram1617 🇹🇷👍👋\n",
      "1549849915886632970 2022-07-20 20:13:09 +0000 <fanialem1453> @guloglu_mustafa @KemalettinBigec @fantoma61 @m_krat @UgurSwm @ncrysf @FATIHOZKAN_61 @HakanKl57963737 @KoncaTarik @AKINCIBEY20 @EZOTERICAL @Bakan32168972 @3isa23 @Teknofest_kusu @Mnevver16463589 @agaby_65 @bayram1617 Sözüm sözdür\n",
      "1549849698940452865 2022-07-20 20:12:17 +0000 <ozlem1980akbas> @guloglu_mustafa @KemalettinBigec @fantoma61 @m_krat @UgurSwm @ncrysf @FATIHOZKAN_61 @HakanKl57963737 @KoncaTarik @AKINCIBEY20 @EZOTERICAL @Bakan32168972 @3isa23 @Teknofest_kusu @Mnevver16463589 @agaby_65 @bayram1617 Takip 👍🏻dır.Teşekkür ederiz hocam\n",
      "1549849085947138048 2022-07-20 20:09:51 +0000 <Once_Vatan_2022> @guloglu_mustafa @KemalettinBigec @fantoma61 @m_krat @UgurSwm @ncrysf @FATIHOZKAN_61 @HakanKl57963737 @KoncaTarik @AKINCIBEY20 @EZOTERICAL @Bakan32168972 @3isa23 @Teknofest_kusu @Mnevver16463589 @agaby_65 @bayram1617 @Once_Vatan_2022 🇹🇷🇹🇷🇹🇷\n",
      "1549849022990815233 2022-07-20 20:09:36 +0000 <UyandirmaSer06> @guloglu_mustafa @KemalettinBigec @fantoma61 @m_krat @UgurSwm @ncrysf @FATIHOZKAN_61 @HakanKl57963737 @KoncaTarik @AKINCIBEY20 @EZOTERICAL @Bakan32168972 @3isa23 @Teknofest_kusu @Mnevver16463589 @agaby_65 @bayram1617 Gündüz takibe baslayarak iyi yapmışım Hocam, çoğu hesap takipte\n",
      "1549848423435755520 2022-07-20 20:07:13 +0000 <efulimdr> @guloglu_mustafa @KemalettinBigec @fantoma61 @m_krat @UgurSwm @ncrysf @FATIHOZKAN_61 @HakanKl57963737 @KoncaTarik @AKINCIBEY20 @EZOTERICAL @Bakan32168972 @3isa23 @Teknofest_kusu @Mnevver16463589 @agaby_65 @bayram1617 🇹🇷🤘\n",
      "1549847609208147968 2022-07-20 20:03:59 +0000 <Ahmet14575135> @guloglu_mustafa @KemalettinBigec @fantoma61 @m_krat @UgurSwm @ncrysf @FATIHOZKAN_61 @HakanKl57963737 @KoncaTarik @AKINCIBEY20 @EZOTERICAL @Bakan32168972 @3isa23 @Teknofest_kusu @Mnevver16463589 @agaby_65 @bayram1617 👍🇹🇷\n",
      "1549846710293233664 2022-07-20 20:00:25 +0000 <_BenSami> @guloglu_mustafa @KemalettinBigec @fantoma61 @m_krat @UgurSwm @ncrysf @FATIHOZKAN_61 @HakanKl57963737 @KoncaTarik @AKINCIBEY20 @EZOTERICAL @Bakan32168972 @3isa23 @Teknofest_kusu @Mnevver16463589 @agaby_65 @bayram1617 🇹🇷🇹🇷🇹🇷\n",
      "1549846294239346690 2022-07-20 19:58:45 +0000 <3isa23> @guloglu_mustafa @KemalettinBigec @fantoma61 @m_krat @UgurSwm @ncrysf @FATIHOZKAN_61 @HakanKl57963737 @KoncaTarik @AKINCIBEY20 @EZOTERICAL @Bakan32168972 @Teknofest_kusu @Mnevver16463589 @agaby_65 @bayram1617 Takiple Gelen Takiple Uğurlanır  Ellerin Dert Görmesin Agabeyim\n",
      "1549846171035860992 2022-07-20 19:58:16 +0000 <HakanKl57963737> @guloglu_mustafa @KemalettinBigec @fantoma61 @m_krat @UgurSwm @ncrysf @FATIHOZKAN_61 @KoncaTarik @AKINCIBEY20 @EZOTERICAL @Bakan32168972 @3isa23 @Teknofest_kusu @Mnevver16463589 @agaby_65 @bayram1617 Eyvallah üstadım 🇹🇷🇹🇷🇹🇷\n",
      "1549846139930812417 2022-07-20 19:58:09 +0000 <sonmez_sehriban> @guloglu_mustafa @KemalettinBigec @fantoma61 @m_krat @UgurSwm @ncrysf @FATIHOZKAN_61 @HakanKl57963737 @KoncaTarik @AKINCIBEY20 @EZOTERICAL @Bakan32168972 @3isa23 @Teknofest_kusu @Mnevver16463589 @agaby_65 @bayram1617 👍\n",
      "1549904528820129793 2022-07-20 23:50:10 +0000 <Efkan_Bey> @TurkTelekom Saat gecenin 02:48'i ve ben oyunda 800 ping ile ışınlanıyorum. Bu saatte ne kadar güzel aktivite değil mi? Aradılar beni ve internette bir sorun gözükmüyor dediler. Hiçbir sorun yok gerçekten de. Not: Kablolu bağlıyım ve interneti sadece ben kullanıyorum.\n",
      "1549904467826458631 2022-07-20 23:49:55 +0000 <arifumit> Sizinle aynı kalitedeki interneti 24 ay taahhüte aynı fiyata veriyor #turktelekom hemde ilk ay bedava ve başka operatörden gelene daha da indirim şansı veriyor. Siz 4 ayda fiyatı 99 liradan 169 liraya çıkardınız 24 ay sonra ne olur tahmin edemiyorum bile @TurkNet !!!\n",
      "1549895952202436609 2022-07-20 23:16:05 +0000 <osmanyilmaz35> @TurkTelekom Taahhütüm bugün sona eriyor. Eğer iyi bir teklif yapmayacaksanız , başka operatöre geçicem, yııllardır telekomluyum. Ama 2 katı ücret çıkarıyosunuz. Arkadaşıma farklı bana farklı ücret. Öğretmenlere özel yok mu tarifeniz, bütün mesleklere var?? @ttdestek\n",
      "1549893324789764097 2022-07-20 23:05:38 +0000 <ozgesonmez3> @TTDestek 1-99898732236 nolu talebime dair dönüş sağlar mısınız , beklemedeyim zira 3 gündür, şikayetime dair. #turktelekom\n",
      "1549890204110147584 2022-07-20 22:53:14 +0000 <onursargin54> @Selcoin @TurkTelekom @TurkNet @Turkcell @VodafoneTR önce oturduğun uyduruk apartmanın altyapısını kontrol ettir sonra operatöre bok at bence! şuan 100 mb hızı hiç bir aksama ve kopma olmadan hepsi verebiliyor. upload hızı en düşük 5mbps .... 50 yıllık çürük binada oturup milleti karalamayın! sistemi doğru kullandığına emin ol önce\n",
      "1549888926717984774 2022-07-20 22:48:10 +0000 <onursargin54> @Selcoin @TurkTelekom @TurkNet @Turkcell @VodafoneTR kim demiş hizmetin vasat olduğunu? @VodafoneTR fiber kullanıyorum 100Mb internet 100 lira ödüyorum. Daha allahtan belanı mı istiyorsun nedir yani bok atma sebebin? hayır 1000 mb internetin olsa ne yapıcan onu merak ettim? yeni dünya mı keşfedicen\n",
      "1549883076238524418 2022-07-20 22:24:55 +0000 <sevval_utkan> Keske havadan söyle bi 20 25 gb falan 30 35 gb gibi bi internet gelse 45 60gb @TurkTelekom\n",
      "1549882323088416769 2022-07-20 22:21:55 +0000 <meloayk> @cicalpi turk telekom iyi sanki\n",
      "1549880003931799554 2022-07-20 22:12:42 +0000 <VirgoMT_> @TurkTelekom Merhaba, fibernet kullanıcısıydım adres değişikliği yapıp nakil talebinde bulundum. Fakat bulunduğum adreste fiber altyapı yok ve ben bu süreçte magnet kullanmak istiyorum. Fakat il müdürlüğüne gitmem gerektiği söylendi. &gt;&gt;\n",
      "1549879798557712385 2022-07-20 22:11:54 +0000 <velioglu_a> #turknet #turktelekom Zamları geri alın  #TurkNet haziran ayında %40 zam yaptiniz   Agustos ayinda da Zam yapiyorsunuz  Birde 10 ay pesin ode 3 taksitle zamsiz ama erken odeme secenegi sunuyorsunuz  Zamsiz devam edin\n",
      "1549873038258307077 2022-07-20 21:45:02 +0000 <lacivbolala> @crusheus kore japon internetinin yanında benim explorer turk telekom İnterneti\n",
      "1549871301619326977 2022-07-20 21:38:08 +0000 <delibirvatandas> Böyle bir pandemi zamanında, evden çalışıyorken  internet bağlayamayız  port yok ne demek ?Bu kadar mağdur etmeyin insanları , özellikle pandemi döneminde. Port eklemek zor bir işlem değil .Evimde internet kullanmak istiyorum .@TurkTelekom @krc_ysf @turktelekomdestek @umitonaltr\n",
      "1549871164507541504 2022-07-20 21:37:35 +0000 <wwalkmann> @TurkTelekom @TurkNet  Esenyurt bölgesinde internet kesintisi yaşayan var mı? Varsa bu kesintinin neden kaynaklandığını biliyor mu?\n",
      "1549870100810964996 2022-07-20 21:33:21 +0000 <miveszined> karantinadayken evin internetinin de genel arızaya girmesi müthiş oldu gerçekten @TurkTelekom. 👌🏼 eskisi gibi örgüye falan başlicam heralde artık.\n",
      "1549868901349072898 2022-07-20 21:28:35 +0000 <erturk1903_> Bir de yalandan 10 ay sabit fiyat diye kampanya uydurmuşlar.. 10 aylık peşin para istiyorsunuz he.. Neyse yarın ilk iş @TurkTelekom 'a geçmek olacak @TurkNet\n",
      "1549865308948762632 2022-07-20 21:14:19 +0000 <nimbusss2000> @TurkTelekom @TTDestek @umitonaltr  30 gündür internet veremediğiniz için bazen size küfür edesim geliyor ama haklıyken haksız konuma geçmemek için bişey demiyorum. Artık insanın ayarlarıyla oynuyosunuz…\n",
      "1549863485785444358 2022-07-20 21:07:04 +0000 <mehmetsurjan> 8. Sonuç olarak bu faturaları duzelmenizi bekliyorum @TurkTelekom. Empati kurun. Müşteri memnuniyeti sizin için önemli değil mi? Yarına kadar yardımcı olunmazsa #btk şikayetine ait goruntusunude paylaşacağım  @TTDestek @TurkTelekom  https://t.co/P6GGaoxxzI\n",
      "1549863209775030272 2022-07-20 21:05:58 +0000 <nuhkoca_> @talhafaki @ozcandroid Turkiye de aileme ya 😀 suan Turk Telekom kullanıyorlar ama memnun degiller\n",
      "1549861767320420363 2022-07-20 21:00:15 +0000 <mehmetsurjan> Diyorum ki #telekom daki konuştuğum arkadaşa siz kontratsiz 100 Mbps ye 390 diyorsunuz @TurkNet 100 Mbps hıza kontratsız 139,90 TL diyor. Üstelik @TurkTelekom alt yapısını kullaniyor düşün yani. Biraz empati diyorum ey #telekom #btk #adaletsizlikvar  https://t.co/CsZvavSENR\n",
      "1549860566931542016 2022-07-20 20:55:28 +0000 <DevranAkkaya777> @TurkTelekom  8831701108 nolu internetim, geceleri bu saatlerde durduk yere gidiyor ve birkaç dakika sonra geri geliyor. Ayrıca son 1 haftadır çekim gücünde sıkıntı var. Herhangi bir sosyal medya uygulamasına girdiğimde yüklenme sorunu yaşıyorum, yavaş çalışıyor.\n"
     ]
    }
   ],
   "source": [
    "basliklar =[\"fenerbahce\",\"TOGG\",\"yarısma\",\"teknofest\",\"turk telekom\"]\n",
    "twitter(basliklar,limit=200,dosya_adi=\"tweetler\")"
   ]
  }
 ],
 "metadata": {
  "accelerator": "GPU",
  "colab": {
   "name": "Veri_çekme.ipynb",
   "provenance": []
  },
  "gpuClass": "standard",
  "kernelspec": {
   "display_name": "Python 3 (ipykernel)",
   "language": "python",
   "name": "python3"
  },
  "language_info": {
   "codemirror_mode": {
    "name": "ipython",
    "version": 3
   },
   "file_extension": ".py",
   "mimetype": "text/x-python",
   "name": "python",
   "nbconvert_exporter": "python",
   "pygments_lexer": "ipython3",
   "version": "3.9.7"
  }
 },
 "nbformat": 4,
 "nbformat_minor": 4
}
